{
 "cells": [
  {
   "cell_type": "code",
   "execution_count": 2,
   "metadata": {},
   "outputs": [],
   "source": [
    "import json\n",
    "import os\n",
    "import sys\n",
    "import time\n",
    "import requests\n",
    "from bs4 import BeautifulSoup"
   ]
  },
  {
   "cell_type": "code",
   "execution_count": 3,
   "metadata": {},
   "outputs": [],
   "source": [
    "path = 'https://ela.nauka.gov.pl/pl/major/detail?detailQuery=%7B\"major\":\"365\",\"majorExternalCode\":\"9025\",\"institution\":\"3845\",\"studyForm\":\"PART\",\"studyLevel\":\"SECOND\",\"experience\":\"ALL\",\"graduationYear\":\"2022\",\"lang\":\"pl\"%7D&query=%7B\"experience\":\"ALL\",\"graduationYear\":\"2022\",\"major\":\"\",\"institution\":\"\",\"studyVoivodeship\":\"\",\"studyForm\":\"\",\"studyLevel\":\"\",\"limit\":\"10\",\"offset\":\"0\"%7D'"
   ]
  },
  {
   "cell_type": "code",
   "execution_count": null,
   "metadata": {},
   "outputs": [],
   "source": [
    "ela_search_pattern = {\"major\":\"365\",\"majorExternalCode\":\"9025\",\"institution\":\"3845\",\"studyForm\":\"PART\",\"studyLevel\":\"SECOND\",\"experience\":\"ALL\",\"graduationYear\":\"2022\",\"lang\":\"pl\"}"
   ]
  },
  {
   "cell_type": "code",
   "execution_count": null,
   "metadata": {},
   "outputs": [],
   "source": [
    "response = requests.get(url)\n",
    "\n",
    "# Step 3: Parse the HTML content using BeautifulSoup\n",
    "soup = BeautifulSoup(response.content, 'html.parser')\n",
    "\n",
    "# Step 4: Extract the desired data (e.g., article titles)\n",
    "# Assuming article titles are within <h2> tags with a class 'title'\n",
    "titles = soup.find_all('h2', class_='ela-major-detail-banner__course')"
   ]
  },
  {
   "cell_type": "code",
   "execution_count": 32,
   "metadata": {},
   "outputs": [
    {
     "name": "stdout",
     "output_type": "stream",
     "text": [
      "First level nesting <ela-app _nghost-sc26=\"\" ela-revision=\"3ae75b5f\" ela-version=\"9.0.0\" ng-version=\"11.2.14\"><ela-main-header _ngcontent-sc26=\"\" _nghost-sc22=\"\" role=\"banner\"><div _ngcontent-sc22=\"\" class=\"ela-main-header__container\"><a _ngcontent-sc22=\"\" class=\"ela-main-header__brand\" href=\"/pl\" tabindex=\"0\"><ela-main-brand _ngcontent-sc22=\"\" _nghost-sc19=\"\" tabindex=\"-1\"><span _ngcontent-sc19=\"\" class=\"ela-main-brand__sign\"><svg _ngcontent-sc19=\"\" aria-labelledby=\"main-slogan\" elasvgsymbol=\"global-logo-ela\"><use _ngcontent-sc19=\"\" href=\"#ela-svg:global:logo-ela\"></use></svg></span><span _ngcontent-sc19=\"\" class=\"sr-only\">Strona główna -</span><span _ngcontent-sc19=\"\" class=\"ela-main-brand__slogan\" id=\"main-slogan\"> Ogólnopolski system monitorowania <strong>Ekonomicznych Losów Absolwentów</strong> szkół wyższych</span></ela-main-brand></a><ela-main-nav _ngcontent-sc22=\"\" _nghost-sc20=\"\" aria-label=\"Menu główne strony\" class=\"\" role=\"navigation\"><a _ngcontent-sc20=\"\" class=\"ela-main-nav__link is-active\" href=\"/pl/major\" tabindex=\"0\"><span _ngcontent-sc20=\"\" class=\"ela-main-nav__link-inner\" tabindex=\"-1\"><small>Znajdź</small>kierunek</span></a><a _ngcontent-sc20=\"\" class=\"ela-main-nav__link\" href=\"/pl/rankings\" tabindex=\"0\"><span _ngcontent-sc20=\"\" class=\"ela-main-nav__link-inner\" tabindex=\"-1\"><small>Zbuduj</small>ranking</span></a><a _ngcontent-sc20=\"\" class=\"ela-main-nav__link\" href=\"/pl/infographics\" tabindex=\"0\"><span _ngcontent-sc20=\"\" class=\"ela-main-nav__link-inner\" tabindex=\"-1\"><small>Stwórz</small>infografikę</span></a><a _ngcontent-sc20=\"\" class=\"ela-main-nav__link\" href=\"/pl/labor-market\" tabindex=\"0\"><span _ngcontent-sc20=\"\" class=\"ela-main-nav__link-inner\" tabindex=\"-1\"><small>Poznaj</small>rynek pracy</span></a><a _ngcontent-sc20=\"\" class=\"ela-main-nav__link\" href=\"/pl/experts\" tabindex=\"0\"><span _ngcontent-sc20=\"\" class=\"ela-main-nav__link-inner\" tabindex=\"-1\"><small>Przejdź do</small>strefy eksperta</span></a><!-- --><a _ngcontent-sc20=\"\" aria-label=\"Zmiana języka\" class=\"ela-main-nav__link\" href=\"/en/major/detail?detailQuery=%7B%22major%22:%22%22,%22majorExternalCode%22:2137,%22institution%22:%22%22,%22studyForm%22:%22%22,%22studyLevel%22:%22%22,%22experience%22:%22%22,%22graduationYear%22:%22%22,%22lang%22:%22%22%7D\" tabindex=\"0\"><span _ngcontent-sc20=\"\" class=\"ela-main-nav__link-inner\" tabindex=\"-1\"><small _ngcontent-sc20=\"\">EN</small></span></a><!-- --></ela-main-nav><button _ngcontent-sc22=\"\" aria-haspopup=\"true\" aria-label=\"Ukryj główne menu\" class=\"ela-main-header__burger\" tabindex=\"0\"><ela-main-burger _ngcontent-sc22=\"\" _nghost-sc21=\"\" class=\"ela-main-header__burger-inner\" tabindex=\"-1\"><span _ngcontent-sc21=\"\"></span><span _ngcontent-sc21=\"\"></span><span _ngcontent-sc21=\"\"></span></ela-main-burger></button></div></ela-main-header><!-- --><ela-main-content _ngcontent-sc26=\"\" _nghost-sc16=\"\" data-heid=\"main\" role=\"main\"><router-outlet _ngcontent-sc16=\"\"></router-outlet><ela-major-detail-container _nghost-sc243=\"\"><!-- --></ela-major-detail-container><!-- --></ela-main-content><ela-main-footer _ngcontent-sc26=\"\" _nghost-sc25=\"\" role=\"contentinfo\"><ela-main-footer-base _ngcontent-sc25=\"\" _nghost-sc23=\"\"><div _ngcontent-sc23=\"\" class=\"ela-main-footer-base\"><h2 _ngcontent-sc23=\"\" class=\"ela-main-footer-base__header\">Akcje i informacje o witrynie</h2><section _ngcontent-sc23=\"\" class=\"ela-main-footer-base__container\"><section _ngcontent-sc23=\"\" class=\"ela-main-footer-base__toolbox\"><div _ngcontent-sc23=\"\" class=\"ela-main-footer-base__links\"><a _ngcontent-sc23=\"\" class=\"ela-main-footer-base__link\" href=\"logo-ela9.zip\" target=\"_blank\"><span _ngcontent-sc23=\"\" class=\"ela-main-footer-base__link-inner\" tabindex=\"-1\"> Pobierz Logo </span></a><!-- --><a _ngcontent-sc23=\"\" class=\"ela-main-footer-base__link\" href=\"/pl/contact\"><span _ngcontent-sc23=\"\" class=\"ela-main-footer-base__link-inner\" tabindex=\"-1\"> Kontakt </span></a><a _ngcontent-sc23=\"\" class=\"ela-main-footer-base__link\" href=\"/pl/availability-declaration\"><span _ngcontent-sc23=\"\" class=\"ela-main-footer-base__link-inner\" tabindex=\"-1\"> Deklaracja dostępności </span></a><a _ngcontent-sc23=\"\" class=\"ela-main-footer-base__link\" href=\"/pl/availability-declaration-mobile\"><span _ngcontent-sc23=\"\" class=\"ela-main-footer-base__link-inner\" tabindex=\"-1\"> Deklaracja dostępności aplikacji mobilnej </span></a></div><div _ngcontent-sc23=\"\" class=\"ela-main-footer-base__apps\"><div _ngcontent-sc23=\"\">Pobierz i zainstaluj aplikację mobilną</div><a _ngcontent-sc23=\"\" aria-label=\"Pobierz aplikację mobilną dla urządzeń z systemem Android\" class=\"ela-main-footer-base__link\" href=\"https://play.google.com/store/apps/details?id=pl.gov.nauka.ela\" target=\"_blank\"><span _ngcontent-sc23=\"\" class=\"ela-main-footer-base__link-inner\"><svg _ngcontent-sc23=\"\" alt=\"Pobierz aplikację mobilną dla urządzeń z systemem Android\" aria-hidden=\"true\" class=\"ela-main-footer-base__apps-sign\" elasvgsymbol=\"global-yellow-android\" focusable=\"false\" tabindex=\"-1\"><use _ngcontent-sc23=\"\" href=\"#ela-svg:global:yellow-android\"></use></svg></span></a></div><!-- --></section><section _ngcontent-sc23=\"\" class=\"ela-main-footer-base__logo-section\"><p _ngcontent-sc23=\"\" class=\"ela-main-footer-base__logo-description\">System ELA został zaprojektowany i wykonany przez Ośrodek Przetwarzania Informacji − Państwowy Instytut Badawczy</p><a _ngcontent-sc23=\"\" aria-label=\"Ośrodek Przetwarzania Informacji Państwowy Instytut Badawczy\" class=\"ela-main-footer-base__link ela-main-footer-base__logo-wrapper\" href=\"https://www.opi.org.pl/\" target=\"_blank\"><span _ngcontent-sc23=\"\" class=\"ela-main-footer-base__link-inner\" tabindex=\"-1\"><svg _ngcontent-sc23=\"\" alt=\"Ośrodek Przetwarzania Informacji Państwowy Instytut Badawczy\" aria-hidden=\"true\" class=\"ela-main-footer-base__logo-opi\" elasvgsymbol=\"global-logo-opi\" focusable=\"false\"><use _ngcontent-sc23=\"\" href=\"#ela-svg:global:logo-opi\"></use></svg></span></a></section><section _ngcontent-sc23=\"\" class=\"ela-main-footer-base__logo-section\"><p _ngcontent-sc23=\"\" class=\"ela-main-footer-base__logo-description\">System ELA powstał na zlecenie Ministerstwa Nauki i Szkolnictwa Wyższego i jest finansowany ze środków Ministra Nauki</p><a _ngcontent-sc23=\"\" aria-label=\"Minister Nauki\" class=\"ela-main-footer-base__link\" href=\"https://www.gov.pl/web/nauka\" target=\"_blank\"><span _ngcontent-sc23=\"\" class=\"ela-main-footer-base__link-inner\" tabindex=\"-1\"><svg _ngcontent-sc23=\"\" alt=\"Minister Nauki\" aria-hidden=\"true\" class=\"ela-main-footer-base__logo-mein\" elasvgsymbol=\"global-minister-logo-pl\" focusable=\"false\"><use _ngcontent-sc23=\"\" href=\"#ela-svg:global:minister-logo-pl\"></use></svg></span><!-- --><!-- --></a></section></section><section _ngcontent-sc23=\"\" class=\"ela-main-footer-base__copyrights\"><div _ngcontent-sc23=\"\" class=\"ela-main-footer-base__version\"> Wersja: 9.0.0 / 2024.07.19 09:30 </div> Copyrights © 2024 Ministerstwo Nauki i Szkolnictwa Wyższego </section></div></ela-main-footer-base><ela-cookies-notification _ngcontent-sc25=\"\" _nghost-sc24=\"\"><div _ngcontent-sc24=\"\" class=\"ela-cookie-notification\"><div _ngcontent-sc24=\"\" class=\"ela-cookie-notification__text\"><span _ngcontent-sc24=\"\">Używamy plików cookies, aby ułatwić Ci korzystanie z naszego serwisu oraz do celów statystycznych. Jeśli nie blokujesz tych plików, to zgadzasz się na ich użycie oraz zapisanie w pamięci urządzenia. Pamiętaj, że możesz\n",
      "    samodzielnie zarządzać cookies, zmieniając ustawienia przeglądarki. Więcej informacji znajdziesz w naszej</span><a _ngcontent-sc24=\"\" href=\"/pl/privacy-policy\">Polityce Prywatności.</a></div><a _ngcontent-sc24=\"\" class=\"ela-cookie-notification__close\" role=\"button\" tabindex=\"0\"><span _ngcontent-sc24=\"\" class=\"sr-only\">Zamknij informację o plikach cookies</span></a></div><!-- --></ela-cookies-notification><!-- --></ela-main-footer><!-- --></ela-app>\n",
      "Second level nesting <ela-main-content _ngcontent-sc26=\"\" _nghost-sc16=\"\" data-heid=\"main\" role=\"main\"><router-outlet _ngcontent-sc16=\"\"></router-outlet><ela-major-detail-container _nghost-sc243=\"\"><!-- --></ela-major-detail-container><!-- --></ela-main-content>\n",
      "Third level nesting <ela-major-detail-container _nghost-sc243=\"\"><!-- --></ela-major-detail-container>\n",
      "Fourth level nesting None\n"
     ]
    },
    {
     "ename": "AttributeError",
     "evalue": "'NoneType' object has no attribute 'find'",
     "output_type": "error",
     "traceback": [
      "\u001b[0;31m---------------------------------------------------------------------------\u001b[0m",
      "\u001b[0;31mAttributeError\u001b[0m                            Traceback (most recent call last)",
      "Cell \u001b[0;32mIn[32], line 19\u001b[0m\n\u001b[1;32m     17\u001b[0m detail \u001b[38;5;241m=\u001b[39m maj_detail_container\u001b[38;5;241m.\u001b[39mfind(\u001b[38;5;124m'\u001b[39m\u001b[38;5;124mela-major-detail\u001b[39m\u001b[38;5;124m'\u001b[39m)\n\u001b[1;32m     18\u001b[0m \u001b[38;5;28mprint\u001b[39m(\u001b[38;5;124m\"\u001b[39m\u001b[38;5;124mFourth level nesting\u001b[39m\u001b[38;5;124m\"\u001b[39m, detail)\n\u001b[0;32m---> 19\u001b[0m detail_content \u001b[38;5;241m=\u001b[39m \u001b[43mdetail\u001b[49m\u001b[38;5;241;43m.\u001b[39;49m\u001b[43mfind\u001b[49m(\u001b[38;5;124m'\u001b[39m\u001b[38;5;124mdiv\u001b[39m\u001b[38;5;124m'\u001b[39m, class_\u001b[38;5;241m=\u001b[39m\u001b[38;5;124m'\u001b[39m\u001b[38;5;124mela-major-detail__content\u001b[39m\u001b[38;5;124m'\u001b[39m)\n\u001b[1;32m     20\u001b[0m \u001b[38;5;28mprint\u001b[39m(\u001b[38;5;124m\"\u001b[39m\u001b[38;5;124mFifth level nesting\u001b[39m\u001b[38;5;124m\"\u001b[39m, detail_content)\n\u001b[1;32m     21\u001b[0m banner \u001b[38;5;241m=\u001b[39m detail_content\u001b[38;5;241m.\u001b[39mfind(\u001b[38;5;124m'\u001b[39m\u001b[38;5;124mela-major-detail-banner\u001b[39m\u001b[38;5;124m'\u001b[39m)\n",
      "\u001b[0;31mAttributeError\u001b[0m: 'NoneType' object has no attribute 'find'"
     ]
    }
   ],
   "source": [
    "\n",
    "for majorExtCode in range(2135, 2138):\n",
    "    \n",
    "    major_path = 'https://ela.nauka.gov.pl/pl/major/detail?detailQuery=%7B\"major\":\"\",\"majorExternalCode\":'+str(majorExtCode)+',\"institution\":\"\",\"studyForm\":\"\",\"studyLevel\":\"\",\"experience\":\"\",\"graduationYear\":\"\",\"lang\":\"\"%7D'\n",
    "    major_path = 'https://ela.nauka.gov.pl/pl/major/detail?detailQuery=%7B\"major\":\"\",\"majorExternalCode\":2137,\"institution\":\"\",\"studyForm\":\"\",\"studyLevel\":\"\",\"experience\":\"\",\"graduationYear\":\"\",\"lang\":\"\"%7D'\n",
    "    response = requests.get(major_path)\n",
    "    \n",
    "    soup = BeautifulSoup(response.content, 'html.parser')\n",
    "    with open('whole_soup.txt', 'w') as file:\n",
    "        file.write(response.text)\n",
    "    \n",
    "    app = soup.find('ela-app')\n",
    "    print(\"First level nesting\", app)\n",
    "    content = app.find('ela-main-content')\n",
    "    print(\"Second level nesting\", content)\n",
    "    maj_detail_container = content.find('ela-major-detail-container')\n",
    "    print(\"Third level nesting\", maj_detail_container)\n",
    "    detail = maj_detail_container.find('ela-major-detail')\n",
    "    print(\"Fourth level nesting\", detail)\n",
    "    detail_content = detail.find('div', class_='ela-major-detail__content')\n",
    "    print(\"Fifth level nesting\", detail_content)\n",
    "    banner = detail_content.find('ela-major-detail-banner')\n",
    "    print(\"Sixth level nesting\", banner)\n",
    "    title = banner.find('h2')\n",
    "    print(title)\n"
   ]
  },
  {
   "cell_type": "code",
   "execution_count": null,
   "metadata": {},
   "outputs": [],
   "source": [
    "page1 = 'https://ela.nauka.gov.pl/pl/major?experience=ALL&graduationYear=2022&major=&institution=&studyVoivodeship=&studyForm=&studyLevel=&limit=10&offset=0'\n",
    "page2 = 'https://ela.nauka.gov.pl/pl/major?experience=ALL&graduationYear=2022&major=&institution=&studyVoivodeship=&studyForm=&studyLevel=&offset=10&limit=10'\n",
    "page3 = 'https://ela.nauka.gov.pl/pl/major?experience=ALL&graduationYear=2022&major=&institution=&studyVoivodeship=&studyForm=&studyLevel=&offset=20&limit=10'"
   ]
  }
 ],
 "metadata": {
  "kernelspec": {
   "display_name": ".venv",
   "language": "python",
   "name": "python3"
  },
  "language_info": {
   "codemirror_mode": {
    "name": "ipython",
    "version": 3
   },
   "file_extension": ".py",
   "mimetype": "text/x-python",
   "name": "python",
   "nbconvert_exporter": "python",
   "pygments_lexer": "ipython3",
   "version": "3.10.14"
  }
 },
 "nbformat": 4,
 "nbformat_minor": 2
}
